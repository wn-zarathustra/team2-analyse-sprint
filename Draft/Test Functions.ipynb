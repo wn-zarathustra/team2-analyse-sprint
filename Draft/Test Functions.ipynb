{
 "cells": [
  {
   "cell_type": "markdown",
   "metadata": {},
   "source": [
    "Pytest needs to be imported to use these lines of code:"
   ]
  },
  {
   "cell_type": "code",
   "execution_count": null,
   "metadata": {},
   "outputs": [],
   "source": [
    "import pytest\n",
    "import pandas\n",
    "\n",
    "\n",
    "def test_metrics_for_gauteng():\n",
    "    assert dictionary_of_metrics(gauteng) == {'mean': 26244.42,\n",
    "                                              'median': 24403.5,\n",
    "                                              'var': 108160153.17,\n",
    "                                              'std': 10400.01,\n",
    "                                              'min': 8842.0,\n",
    "                                              'max': 39660.0}\n",
    "\n",
    "\n",
    "def test_metrics_for_limpopo():\n",
    "    assert dictionary_of_metrics(limpopo) == {'mean': 44105.33,\n",
    "                                              'median': 44035.0,\n",
    "                                              'var': 191294774.61,\n",
    "                                              'std': 13830.94,\n",
    "                                              'min': 18592.0,\n",
    "                                              'max': 68121.0}\n",
    "\n",
    "\n",
    "def test_metrics_for_western_cape():\n",
    "    assert dictionary_of_metrics(western_cape) == {'mean': 22422.25,\n",
    "                                              'median': 19349.5,\n",
    "                                              'var': 169996562.02,\n",
    "                                              'std': 13038.27,\n",
    "                                              'min': 4639.0,\n",
    "                                              'max': 48429.0}"
   ]
  },
  {
   "cell_type": "code",
   "execution_count": null,
   "metadata": {},
   "outputs": [],
   "source": [
    "def test_five_number_summary_for_gauteng():\n",
    "    assert dictionary_of_metrics(gauteng) == {'max': 39660.0,\n",
    "                                              'median': 24403.5,\n",
    "                                              'min': 8842.0,\n",
    "                                              'q1': 18653.0,\n",
    "                                              'q3': 36372.0}\n",
    "\n",
    "\n",
    "def test_five_number_summary_for_limpopo():\n",
    "    assert dictionary_of_metrics(limpopo) == {'max': 68121.0,\n",
    "                                              'median': 44035.0,\n",
    "                                              'min': 18592.0,\n",
    "                                              'q1': 35670.5,\n",
    "                                              'q3': 52556.5}\n",
    "\n",
    "\n",
    "def test_five_number_summary_for_western_cape():\n",
    "    assert dictionary_of_metrics(western_cape) == {'max': 48429.0,\n",
    "                                                   'median': 19349.5,\n",
    "                                                   'min': 4639.0,\n",
    "                                                   'q1': 12007.75,\n",
    "                                                   'q3': 29905.75}"
   ]
  },
  {
   "cell_type": "code",
   "execution_count": null,
   "metadata": {},
   "outputs": [],
   "source": [
    "def test_multiple_for_date_parser():\n",
    "    assert date_parser(dates[:3]) == ['2019-11-29', '2019-11-29', '2019-11-29']\n",
    "\n",
    "    assert date_parser(dates[-3:]) == ['2019-11-20','2019-11-20', '2019-11-20']\n",
    "\n",
    "    assert date_parser(['2019-11-29 12:50:54',\n",
    "                        '2019-11-29 12:46:53',\n",
    "                        '2019-11-29 12:46:10']) == ['2019-11-29', '2019-11-29', '2019-11-29']"
   ]
  },
  {
   "cell_type": "code",
   "execution_count": null,
   "metadata": {},
   "outputs": [],
   "source": [
    "def test_hashtags_and_municipality_in_function_four_dataframe():\n",
    "    import pandas.testing as pdt\n",
    "    muni_hashtags = extract_municipality_hashtags(twitter_df.copy().head(20))[\"hashtags\"]\n",
    "    hashtags = [np.nan, np.nan,np.nan,np.nan,\n",
    "        ['#eskomfreestate', '#mediastatement'],np.nan,\n",
    "        ['#fridaymotivation', '#eskomexpoisf'],['#eskommpumalanga'],\n",
    "        np.nan,np.nan,['#fridaythoughts'],np.nan,np.nan,['#eskomnorthwest'],np.nan,['#poweralert'],\n",
    "        ['#eskomfreestate', '#mediastatement'],np.nan,['#randburgoutage'],['#eskomgauteng', '#poweroutage']]\n",
    "\n",
    "    hashtags_series = pd.Series(hashtags)\n",
    "    \n",
    "    hashtags_series = hashtags_series.rename('hashtags')\n",
    "    \n",
    "    pdt.assert_series_equal(muni_hashtags, hashtags_series)"
   ]
  },
  {
   "cell_type": "code",
   "execution_count": null,
   "metadata": {},
   "outputs": [],
   "source": [
    "def test_tweets_per_day_dataframe():\n",
    "    assert number_of_tweets_per_day(twitter_df.copy())['Tweets'].iloc[0] == 18\n",
    "    assert number_of_tweets_per_day(twitter_df.copy())['Tweets'].iloc[1] == 11\n",
    "    assert number_of_tweets_per_day(twitter_df.copy())['Tweets'].iloc[2] == 25\n",
    "    assert number_of_tweets_per_day(twitter_df.copy())['Tweets'].iloc[3] == 19\n",
    "    assert number_of_tweets_per_day(twitter_df.copy())['Tweets'].iloc[4] == 14\n",
    "    \n",
    "    try: \n",
    "        assert number_of_tweets_per_day(twitter_df.copy())['Tweets'].iloc[0] == 12\n",
    "    except:        \n",
    "        raise AssertionError('Failed Successfully')\n",
    "    try: \n",
    "        assert number_of_tweets_per_day(twitter_df.copy())['Tweets'].iloc[2] == 12\n",
    "    except:        \n",
    "        raise AssertionError('Failed Successfully')\n",
    "    try: \n",
    "        assert number_of_tweets_per_day(twitter_df.copy())['Tweets'].iloc[4] == 15\n",
    "    except:        \n",
    "        raise AssertionError('Failed Successfully'\n"
   ]
  },
  {
   "cell_type": "code",
   "execution_count": null,
   "metadata": {},
   "outputs": [],
   "source": [
    "def test_split_tweets_dataframe():\n",
    "    \n",
    "    assert word_splitter(twitter_df.copy()).loc[0, \"Split Tweets\"] \n",
    "            == ['@bongadlulane', 'please', 'send', 'an', 'email', 'to',\n",
    "                'mediadesk@eskom.co.za']\n",
    "\n",
    "    assert word_splitter(twitter_df.copy()).loc[1, \"Split Tweets\"] \n",
    "            == ['@saucy_mamiie', 'pls', 'log', 'a', 'call', 'on', '0860037566']\n",
    "\n",
    "    assert word_splitter(twitter_df.copy()).loc[2, \"Split Tweets\"] \n",
    "            == ['@bongadlulane', 'query', 'escalated', 'to', 'media', 'desk.']\n",
    "\n",
    "    assert word_splitter(twitter_df.copy()).loc[2, \"Split Tweets\"]\n",
    "            == ['before', 'leaving', 'the', 'office', 'this', 'afternoon,', 'heading', \n",
    "                'off', 'into', 'the', 'weekend,', 'remember', 'to', 'switch', 'off', \n",
    "                'lights', '&amp;', 'electrical…', 'https://t.co/jug75zddaf']"
   ]
  },
  {
   "cell_type": "code",
   "execution_count": null,
   "metadata": {},
   "outputs": [],
   "source": [
    "def test_stop_words_dataframe():\n",
    "    assert stop_words_remover(twitter_df.copy()).loc[0, \"Without Stop Words\"] \n",
    "            == ['@bongadlulane', 'send', 'email', 'mediadesk@eskom.co.za']\n",
    "        \n",
    "    assert stop_words_remover(twitter_df.copy()).loc[1, \"Without Stop Words\"]\n",
    "            == ['@saucy_mamiie', 'pls', 'log', '0860037566']\n",
    "    \n",
    "    assert stop_words_remover(twitter_df.copy()).loc[2, \"Without Stop Words\"]\n",
    "            == ['@bongadlulane', 'query', 'escalated', 'media', 'desk.']\n",
    "    \n",
    "    assert stop_words_remover(twitter_df.copy()).loc[3, \"Without Stop Words\"]\n",
    "            == ['leaving', 'office', 'afternoon,', 'heading', 'weekend,',\n",
    "                 'remember', 'switch', 'lights', '&amp;', 'electrical…',\n",
    "                'https://t.co/jug75zddaf']"
   ]
  }
 ],
 "metadata": {
  "kernelspec": {
   "display_name": "Python 3.6.5 64-bit ('base': conda)",
   "language": "python",
   "name": "python36564bitbaseconda614a5d7478eb447b8d9e42caa11efdef"
  },
  "language_info": {
   "codemirror_mode": {
    "name": "ipython",
    "version": 3
   },
   "file_extension": ".py",
   "mimetype": "text/x-python",
   "name": "python",
   "nbconvert_exporter": "python",
   "pygments_lexer": "ipython3",
   "version": "3.6.5"
  }
 },
 "nbformat": 4,
 "nbformat_minor": 4
}
